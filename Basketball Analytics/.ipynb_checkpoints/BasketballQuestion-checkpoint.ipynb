{
 "cells": [
  {
   "cell_type": "markdown",
   "metadata": {},
   "source": [
    "# Basketball Question"
   ]
  },
  {
   "cell_type": "markdown",
   "metadata": {},
   "source": [
    "### Importing Data / Packages"
   ]
  },
  {
   "cell_type": "code",
   "execution_count": 1,
   "metadata": {},
   "outputs": [],
   "source": [
    "import pandas as pd\n",
    "import numpy as np"
   ]
  },
  {
   "cell_type": "code",
   "execution_count": 2,
   "metadata": {},
   "outputs": [],
   "source": [
    "#importing text documents\n",
    "df_Event_Codes = pd.read_csv(\"Event_Codes.txt\", sep = '\\t')\n",
    "df_Game_Lineup = pd.read_csv(\"Game_Lineup.txt\", sep = '\\t')\n",
    "\n",
    "#sorting play by play as suggested in pdf\n",
    "df_Play_by_Play = pd.read_csv(\"Play_by_Play.txt\", sep = '\\t').sort_values(['Game_id',\n",
    "                                                                           'Period', \n",
    "                                                                           'PC_Time',\n",
    "                                                                           'WC_Time',\n",
    "                                                                           'Event_Num'],\n",
    "                                                                          ascending = [0, 1, 0, 1, 1])"
   ]
  },
  {
   "cell_type": "markdown",
   "metadata": {},
   "source": [
    "### Trying to Get Indicator variable for if player A is in"
   ]
  },
  {
   "cell_type": "code",
   "execution_count": 3,
   "metadata": {},
   "outputs": [],
   "source": [
    "#creating merge of two dataframes\n",
    "\n",
    "#gets correct team_id by merging play by play with game lineup. looking only at period 0 to extract info regardless if starter\n",
    "df_merged = pd.merge(df_Play_by_Play.drop('Team_id', axis = 1),\n",
    "                     df_Game_Lineup.loc[df_Game_Lineup.Period == 0][['Game_id', 'Person_id', 'Period', 'Team_id']],\n",
    "                     left_on = ['Game_id', 'Person1'],\n",
    "                     right_on = ['Game_id', 'Person_id']).drop('Period_y', axis = 1)\n",
    "\n",
    "#merging to get information of whether player started specific period\n",
    "df_merged = pd.merge(df_merged,\n",
    "                     df_Game_Lineup[['Game_id', 'Person_id', 'Period']], \n",
    "                     how = 'left',\n",
    "                     left_on = ['Game_id', 'Person1', 'Period_x'],\n",
    "                     right_on = ['Game_id', 'Person_id', 'Period'])\n",
    "\n",
    "#resorting and resetting index\n",
    "df_merged.sort_values(['Game_id','Period_x', 'PC_Time', 'WC_Time', 'Event_Num'],\n",
    "                                                                          ascending = [0, 1, 0, 1, 1], inplace = True)\n",
    "\n",
    "df_merged.reset_index(inplace = True, drop = True)"
   ]
  },
  {
   "cell_type": "code",
   "execution_count": 4,
   "metadata": {},
   "outputs": [],
   "source": [
    "#iterates through df_merged to find location of next non-freethrow event\n",
    "def findNonFreethrow(i, player_index):\n",
    "    num = 0\n",
    "    while (df_merged.iloc[player_index[i + num]]['Event_Msg_Type'] == 3 or \n",
    "           df_merged.iloc[player_index[i + num]]['Event_Msg_Type'] == 8):\n",
    "        num += 1\n",
    "        \n",
    "    return num\n",
    "\n",
    "#iterates through and checks if subsitituion occurs after free throw\n",
    "def checkIfNotFreeThrow(i, player_index):\n",
    "    num = 0\n",
    "    try:\n",
    "        while (df_merged.iloc[player_index[i + num]]['Event_Msg_Type'] == 8):\n",
    "            num += 1\n",
    "    except:\n",
    "        return True\n",
    "    \n",
    "    if df_merged.iloc[player_index[i + num]]['Event_Msg_Type'] == 3:\n",
    "        return False\n",
    "    else:\n",
    "        return True"
   ]
  },
  {
   "cell_type": "code",
   "execution_count": 5,
   "metadata": {},
   "outputs": [
    {
     "name": "stderr",
     "output_type": "stream",
     "text": [
      "C:\\Users\\Tom Bliss\\Anaconda3\\lib\\site-packages\\pandas\\core\\indexing.py:189: SettingWithCopyWarning: \n",
      "A value is trying to be set on a copy of a slice from a DataFrame\n",
      "\n",
      "See the caveats in the documentation: http://pandas.pydata.org/pandas-docs/stable/indexing.html#indexing-view-versus-copy\n",
      "  self._setitem_with_indexer(indexer, value)\n"
     ]
    },
    {
     "ename": "IndexError",
     "evalue": "index 2057 is out of bounds for axis 0 with size 2057",
     "output_type": "error",
     "traceback": [
      "\u001b[1;31m---------------------------------------------------------------------------\u001b[0m",
      "\u001b[1;31mIndexError\u001b[0m                                Traceback (most recent call last)",
      "\u001b[1;32m<ipython-input-5-1017feca3e46>\u001b[0m in \u001b[0;36m<module>\u001b[1;34m\u001b[0m\n\u001b[0;32m     65\u001b[0m             \u001b[1;31m#making sure period is same period\u001b[0m\u001b[1;33m\u001b[0m\u001b[1;33m\u001b[0m\u001b[1;33m\u001b[0m\u001b[0m\n\u001b[0;32m     66\u001b[0m                 (df_merged['Period_x'].iloc[player_index[findNonFreethrow(i+1, player_index) + i]]\n\u001b[1;32m---> 67\u001b[1;33m                  == df_merged['Period_x'].iloc[player_index[i+1]]) & \n\u001b[0m\u001b[0;32m     68\u001b[0m             \u001b[1;31m#making sure game is same game\u001b[0m\u001b[1;33m\u001b[0m\u001b[1;33m\u001b[0m\u001b[1;33m\u001b[0m\u001b[0m\n\u001b[0;32m     69\u001b[0m                 (df_merged['Game_id'].iloc[player_index[findNonFreethrow(i+1, player_index) + i]]\n",
      "\u001b[1;32m<ipython-input-4-5e7bdf4b69f1>\u001b[0m in \u001b[0;36mfindNonFreethrow\u001b[1;34m(i, player_index)\u001b[0m\n\u001b[0;32m      2\u001b[0m \u001b[1;32mdef\u001b[0m \u001b[0mfindNonFreethrow\u001b[0m\u001b[1;33m(\u001b[0m\u001b[0mi\u001b[0m\u001b[1;33m,\u001b[0m \u001b[0mplayer_index\u001b[0m\u001b[1;33m)\u001b[0m\u001b[1;33m:\u001b[0m\u001b[1;33m\u001b[0m\u001b[1;33m\u001b[0m\u001b[0m\n\u001b[0;32m      3\u001b[0m     \u001b[0mnum\u001b[0m \u001b[1;33m=\u001b[0m \u001b[1;36m0\u001b[0m\u001b[1;33m\u001b[0m\u001b[1;33m\u001b[0m\u001b[0m\n\u001b[1;32m----> 4\u001b[1;33m     while (df_merged.iloc[player_index[i + num]]['Event_Msg_Type'] == 3 or \n\u001b[0m\u001b[0;32m      5\u001b[0m            df_merged.iloc[player_index[i + num]]['Event_Msg_Type'] == 8):\n\u001b[0;32m      6\u001b[0m         \u001b[0mnum\u001b[0m \u001b[1;33m+=\u001b[0m \u001b[1;36m1\u001b[0m\u001b[1;33m\u001b[0m\u001b[1;33m\u001b[0m\u001b[0m\n",
      "\u001b[1;32m~\\Anaconda3\\lib\\site-packages\\pandas\\core\\indexes\\base.py\u001b[0m in \u001b[0;36m__getitem__\u001b[1;34m(self, key)\u001b[0m\n\u001b[0;32m   2082\u001b[0m \u001b[1;33m\u001b[0m\u001b[0m\n\u001b[0;32m   2083\u001b[0m         \u001b[1;32mif\u001b[0m \u001b[0mis_scalar\u001b[0m\u001b[1;33m(\u001b[0m\u001b[0mkey\u001b[0m\u001b[1;33m)\u001b[0m\u001b[1;33m:\u001b[0m\u001b[1;33m\u001b[0m\u001b[1;33m\u001b[0m\u001b[0m\n\u001b[1;32m-> 2084\u001b[1;33m             \u001b[1;32mreturn\u001b[0m \u001b[0mgetitem\u001b[0m\u001b[1;33m(\u001b[0m\u001b[0mkey\u001b[0m\u001b[1;33m)\u001b[0m\u001b[1;33m\u001b[0m\u001b[1;33m\u001b[0m\u001b[0m\n\u001b[0m\u001b[0;32m   2085\u001b[0m \u001b[1;33m\u001b[0m\u001b[0m\n\u001b[0;32m   2086\u001b[0m         \u001b[1;32mif\u001b[0m \u001b[0misinstance\u001b[0m\u001b[1;33m(\u001b[0m\u001b[0mkey\u001b[0m\u001b[1;33m,\u001b[0m \u001b[0mslice\u001b[0m\u001b[1;33m)\u001b[0m\u001b[1;33m:\u001b[0m\u001b[1;33m\u001b[0m\u001b[1;33m\u001b[0m\u001b[0m\n",
      "\u001b[1;31mIndexError\u001b[0m: index 2057 is out of bounds for axis 0 with size 2057"
     ]
    }
   ],
   "source": [
    "#iterating through all players that were listed as starters or were subbed in\n",
    "#creates column with name of player and puts 1 if player should be credited for points\n",
    "for player in df_Game_Lineup.Person_id.append(df_Play_by_Play.Person2).unique(): #[0:2]:\n",
    "    \n",
    "    #setting indicator value to 0 for all entries to start\n",
    "    df_merged[player] = 0\n",
    "    \n",
    "    #defining boolean statement to select games of interest (games in which player played in)\n",
    "    games = df_merged.Game_id.isin(df_Game_Lineup.loc[df_Game_Lineup.Person_id == player].Game_id.unique())\n",
    "\n",
    "    #setting indicator value to 1 for those who start periods\n",
    "    period_start_index = df_merged.loc[games].drop_duplicates(['Game_id', 'Period_x']).index \n",
    "\n",
    "    #groups by period finds players that started their period and puts a 1 in the first entry for those who started their period\n",
    "    start_of_period = ((df_merged.loc[games].groupby(['Game_id', 'Period'])\n",
    "                    .apply(lambda x: (x['Person1'] == player).any())).astype(int))\n",
    "    \n",
    "    start_of_period = start_of_period.reset_index().sort_values(['Game_id', 'Period'],\n",
    "                                                                ascending = [0, 1]).reset_index().set_index(period_start_index)\n",
    "    \n",
    "    #if player doesnt play, no need to set anything\n",
    "    if len(start_of_period) > 0:\n",
    "        df_merged.loc[period_start_index, player] = start_of_period[0]\n",
    "    \n",
    "    #setting continual indexes/indicators of being in game\n",
    "    player_index = df_merged.loc[games].index\n",
    "    freethrow_indicator = np.ones(len(player_index))\n",
    "    \n",
    "    #going through player index\n",
    "    for i in range(len(player_index) - 1):\n",
    "    \n",
    "        df_merged[player].iloc[player_index[i+1]] = (#current value (if already 1, should stay same)\n",
    "                                    df_merged[player].iloc[player_index[i+1]] +\n",
    "                        \n",
    "                                    #no change in value if game or quarter ends:\n",
    "                                    int((df_merged['Period_x'].iloc[player_index[i+1]] == \n",
    "                                         df_merged['Period_x'].iloc[player_index[i]])\n",
    "                                    & (df_merged['Game_id'].iloc[player_index[i+1]] ==\n",
    "                                       df_merged['Game_id'].iloc[player_index[i]])) *\n",
    "                                    \n",
    "                                    #checking if substitution out of player occured during freethrows:\n",
    "                                    freethrow_indicator[i] *\n",
    "                                    \n",
    "                                    #previous value\n",
    "                                     (df_merged[player].iloc[player_index[i]]\n",
    "                        \n",
    "                                      #checking if play before or after was freethrow\n",
    "                                      + int(checkIfNotFreeThrow(i+1, player_index)) * \n",
    "                                      \n",
    "                                    #subtract 1 if player has been subbed out\n",
    "                                      +((- int((df_merged['Event_Msg_Type'].iloc[player_index[i+1]] == 8) & \n",
    "                                        (df_merged['Person1'].iloc[player_index[i+1]] == player))\n",
    "                          \n",
    "                                    #add 1 if player has been subbed in\n",
    "                                       + (int((df_merged['Event_Msg_Type'].iloc[player_index[i]] == 8) & \n",
    "                                        (df_merged['Person2'].iloc[player_index[i]] == player)))))))\n",
    "        \n",
    "        \n",
    "        #subbing players out after freethrow\n",
    "        #checking if substitution\n",
    "        if ((df_merged['Event_Msg_Type'].iloc[player_index[i+1]] == 8) &\n",
    "            #checking if substitution is surounded by freethrows\n",
    "                (not checkIfNotFreeThrow(i+1, player_index)) &\n",
    "            #checking if player is being subbed out\n",
    "                (df_merged['Person1'].iloc[player_index[i+1]] == player) & \n",
    "            #making sure period is same period\n",
    "                (df_merged['Period_x'].iloc[player_index[findNonFreethrow(i+1, player_index) + i]]\n",
    "                 == df_merged['Period_x'].iloc[player_index[i+1]]) & \n",
    "            #making sure game is same game\n",
    "                (df_merged['Game_id'].iloc[player_index[findNonFreethrow(i+1, player_index) + i]]\n",
    "                 == df_merged['Game_id'].iloc[player_index[i+1]])):\n",
    "                                     \n",
    "                                    #setting 0 at correct spot so value will not use value above\n",
    "                                     freethrow_indicator[findNonFreethrow(i+1, player_index) + i] = 0\n",
    "        \n",
    "        #subbing players in after freethrow\n",
    "         #checking if substitution\n",
    "        if ((df_merged['Event_Msg_Type'].iloc[player_index[i+1]] == 8) &\n",
    "         #checking if substitution is surounded by freethrows\n",
    "                (not checkIfNotFreeThrow(i+1, player_index)) &\n",
    "            #checking if player is being subbed out\n",
    "                (df_merged['Person2'].iloc[player_index[i+1]] == player) & \n",
    "            #making sure period is same period\n",
    "                (df_merged['Period_x'].iloc[player_index[findNonFreethrow(i+1, player_index) + i]]\n",
    "                 == df_merged['Period_x'].iloc[player_index[i+1]]) & \n",
    "            #making sure game is same game\n",
    "                (df_merged['Game_id'].iloc[player_index[findNonFreethrow(i+1, player_index) + i]]\n",
    "                 == df_merged['Game_id'].iloc[player_index[i+1]])):\n",
    "                \n",
    "                                    #setting 1 at correct spot\n",
    "                                     df_merged[player].iloc[player_index[findNonFreethrow(i+1, player_index) + i+1]] = 1\n",
    "                        \n",
    "    \n",
    "    "
   ]
  },
  {
   "cell_type": "code",
   "execution_count": null,
   "metadata": {},
   "outputs": [],
   "source": [
    "df_merged.to_csv('first_results.csv')"
   ]
  },
  {
   "cell_type": "code",
   "execution_count": null,
   "metadata": {},
   "outputs": [],
   "source": [
    "#if first_results.csv seems accurate, can determine OR here"
   ]
  },
  {
   "cell_type": "code",
   "execution_count": null,
   "metadata": {},
   "outputs": [],
   "source": []
  }
 ],
 "metadata": {
  "kernelspec": {
   "display_name": "Python 3",
   "language": "python",
   "name": "python3"
  },
  "language_info": {
   "codemirror_mode": {
    "name": "ipython",
    "version": 3
   },
   "file_extension": ".py",
   "mimetype": "text/x-python",
   "name": "python",
   "nbconvert_exporter": "python",
   "pygments_lexer": "ipython3",
   "version": "3.7.1"
  }
 },
 "nbformat": 4,
 "nbformat_minor": 2
}
