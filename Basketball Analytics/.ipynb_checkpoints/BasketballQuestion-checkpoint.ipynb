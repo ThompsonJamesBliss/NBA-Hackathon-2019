{
 "cells": [
  {
   "cell_type": "markdown",
   "metadata": {},
   "source": [
    "# Basketball Question"
   ]
  },
  {
   "cell_type": "markdown",
   "metadata": {},
   "source": [
    "### Importing Data / Packages"
   ]
  },
  {
   "cell_type": "code",
   "execution_count": 1,
   "metadata": {},
   "outputs": [],
   "source": [
    "import pandas as pd"
   ]
  },
  {
   "cell_type": "code",
   "execution_count": 2,
   "metadata": {},
   "outputs": [],
   "source": [
    "#importing text documents\n",
    "df_Event_Codes = pd.read_csv(\"Event_Codes.txt\", sep = '\\t')\n",
    "df_Game_Lineup = pd.read_csv(\"Game_Lineup.txt\", sep = '\\t')\n",
    "\n",
    "#sorting play by play as suggested in pdf\n",
    "df_Play_by_Play = pd.read_csv(\"Play_by_Play.txt\", sep = '\\t').sort_values(['Game_id',\n",
    "                                                                           'Period', \n",
    "                                                                           'PC_Time',\n",
    "                                                                           'WC_Time',\n",
    "                                                                           'Event_Num'],\n",
    "                                                                          ascending = [0, 1, 1, 0, 1])"
   ]
  },
  {
   "cell_type": "markdown",
   "metadata": {},
   "source": [
    "### Trying to Get Indicator variable for if player A is in"
   ]
  },
  {
   "cell_type": "code",
   "execution_count": 3,
   "metadata": {},
   "outputs": [],
   "source": [
    "#creating merge of two dataframes\n",
    "\n",
    "#gets correct team_id by merging play by play with game lineup. looking only at period 0 to extract info regardless if starter\n",
    "df_merged = pd.merge(df_Play_by_Play.drop('Team_id', axis = 1),\n",
    "                     df_Game_Lineup.loc[df_Game_Lineup.Period == 0][['Game_id', 'Person_id', 'Period', 'Team_id']],\n",
    "                     left_on = ['Game_id', 'Person1'],\n",
    "                     right_on = ['Game_id', 'Person_id']).drop('Period_y', axis = 1)\n",
    "\n",
    "#merging to get information of whether player started specific period\n",
    "df_merged = pd.merge(df_merged,\n",
    "                     df_Game_Lineup[['Game_id', 'Person_id', 'Period']], how = 'left', left_on = ['Game_id', 'Person1', 'Period_x'],\n",
    "                     right_on = ['Game_id', 'Person_id', 'Period'])\n",
    "\n",
    "#resorting and resetting index\n",
    "df_merged.sort_values(['Game_id','Period_x', 'PC_Time', 'WC_Time', 'Event_Num'],\n",
    "                                                                          ascending = [0, 1, 1, 0, 1], inplace = True)\n",
    "\n",
    "df_merged.reset_index(inplace = True)"
   ]
  },
  {
   "cell_type": "code",
   "execution_count": 4,
   "metadata": {},
   "outputs": [],
   "source": [
    "def findNonFreethrow(i):\n",
    "    num = 0\n",
    "    while df_merged.iloc[i + num]['Event_Msg_Type'] == 3 or df_merged.iloc[i + num]['Event_Msg_Type'] == 8:\n",
    "        num += 1\n",
    "        \n",
    "    return num"
   ]
  },
  {
   "cell_type": "code",
   "execution_count": 5,
   "metadata": {},
   "outputs": [
    {
     "name": "stderr",
     "output_type": "stream",
     "text": [
      "C:\\Users\\tjbli\\Anaconda2\\envs\\py36\\lib\\site-packages\\pandas\\core\\indexing.py:189: SettingWithCopyWarning: \n",
      "A value is trying to be set on a copy of a slice from a DataFrame\n",
      "\n",
      "See the caveats in the documentation: http://pandas.pydata.org/pandas-docs/stable/indexing.html#indexing-view-versus-copy\n",
      "  self._setitem_with_indexer(indexer, value)\n"
     ]
    },
    {
     "ename": "KeyboardInterrupt",
     "evalue": "",
     "output_type": "error",
     "traceback": [
      "\u001b[1;31m---------------------------------------------------------------------------\u001b[0m",
      "\u001b[1;31mKeyboardInterrupt\u001b[0m                         Traceback (most recent call last)",
      "\u001b[1;32m<ipython-input-5-302e9eac61d4>\u001b[0m in \u001b[0;36m<module>\u001b[1;34m()\u001b[0m\n\u001b[0;32m     43\u001b[0m                                     \u001b[1;31m#add 1 if player has been subbed in\u001b[0m\u001b[1;33m\u001b[0m\u001b[1;33m\u001b[0m\u001b[0m\n\u001b[0;32m     44\u001b[0m                                        + (int((df_merged['Event_Msg_Type'].iloc[player_index[i]] == 8) & \n\u001b[1;32m---> 45\u001b[1;33m                                         (df_merged['Person1'].iloc[player_index[i]] == player))))) ))\n\u001b[0m\u001b[0;32m     46\u001b[0m \u001b[1;33m\u001b[0m\u001b[0m\n\u001b[0;32m     47\u001b[0m \u001b[1;33m\u001b[0m\u001b[0m\n",
      "\u001b[1;32m~\\Anaconda2\\envs\\py36\\lib\\site-packages\\pandas\\core\\indexing.py\u001b[0m in \u001b[0;36m__setitem__\u001b[1;34m(self, key, value)\u001b[0m\n\u001b[0;32m    187\u001b[0m             \u001b[0mkey\u001b[0m \u001b[1;33m=\u001b[0m \u001b[0mcom\u001b[0m\u001b[1;33m.\u001b[0m\u001b[0m_apply_if_callable\u001b[0m\u001b[1;33m(\u001b[0m\u001b[0mkey\u001b[0m\u001b[1;33m,\u001b[0m \u001b[0mself\u001b[0m\u001b[1;33m.\u001b[0m\u001b[0mobj\u001b[0m\u001b[1;33m)\u001b[0m\u001b[1;33m\u001b[0m\u001b[0m\n\u001b[0;32m    188\u001b[0m         \u001b[0mindexer\u001b[0m \u001b[1;33m=\u001b[0m \u001b[0mself\u001b[0m\u001b[1;33m.\u001b[0m\u001b[0m_get_setitem_indexer\u001b[0m\u001b[1;33m(\u001b[0m\u001b[0mkey\u001b[0m\u001b[1;33m)\u001b[0m\u001b[1;33m\u001b[0m\u001b[0m\n\u001b[1;32m--> 189\u001b[1;33m         \u001b[0mself\u001b[0m\u001b[1;33m.\u001b[0m\u001b[0m_setitem_with_indexer\u001b[0m\u001b[1;33m(\u001b[0m\u001b[0mindexer\u001b[0m\u001b[1;33m,\u001b[0m \u001b[0mvalue\u001b[0m\u001b[1;33m)\u001b[0m\u001b[1;33m\u001b[0m\u001b[0m\n\u001b[0m\u001b[0;32m    190\u001b[0m \u001b[1;33m\u001b[0m\u001b[0m\n\u001b[0;32m    191\u001b[0m     \u001b[1;32mdef\u001b[0m \u001b[0m_validate_key\u001b[0m\u001b[1;33m(\u001b[0m\u001b[0mself\u001b[0m\u001b[1;33m,\u001b[0m \u001b[0mkey\u001b[0m\u001b[1;33m,\u001b[0m \u001b[0maxis\u001b[0m\u001b[1;33m)\u001b[0m\u001b[1;33m:\u001b[0m\u001b[1;33m\u001b[0m\u001b[0m\n",
      "\u001b[1;32m~\\Anaconda2\\envs\\py36\\lib\\site-packages\\pandas\\core\\indexing.py\u001b[0m in \u001b[0;36m_setitem_with_indexer\u001b[1;34m(self, indexer, value)\u001b[0m\n\u001b[0;32m    644\u001b[0m \u001b[1;33m\u001b[0m\u001b[0m\n\u001b[0;32m    645\u001b[0m             \u001b[1;31m# check for chained assignment\u001b[0m\u001b[1;33m\u001b[0m\u001b[1;33m\u001b[0m\u001b[0m\n\u001b[1;32m--> 646\u001b[1;33m             \u001b[0mself\u001b[0m\u001b[1;33m.\u001b[0m\u001b[0mobj\u001b[0m\u001b[1;33m.\u001b[0m\u001b[0m_check_is_chained_assignment_possible\u001b[0m\u001b[1;33m(\u001b[0m\u001b[1;33m)\u001b[0m\u001b[1;33m\u001b[0m\u001b[0m\n\u001b[0m\u001b[0;32m    647\u001b[0m \u001b[1;33m\u001b[0m\u001b[0m\n\u001b[0;32m    648\u001b[0m             \u001b[1;31m# actually do the set\u001b[0m\u001b[1;33m\u001b[0m\u001b[1;33m\u001b[0m\u001b[0m\n",
      "\u001b[1;32m~\\Anaconda2\\envs\\py36\\lib\\site-packages\\pandas\\core\\generic.py\u001b[0m in \u001b[0;36m_check_is_chained_assignment_possible\u001b[1;34m(self)\u001b[0m\n\u001b[0;32m   2622\u001b[0m             \u001b[1;32mif\u001b[0m \u001b[0mref\u001b[0m \u001b[1;32mis\u001b[0m \u001b[1;32mnot\u001b[0m \u001b[1;32mNone\u001b[0m \u001b[1;32mand\u001b[0m \u001b[0mref\u001b[0m\u001b[1;33m.\u001b[0m\u001b[0m_is_mixed_type\u001b[0m\u001b[1;33m:\u001b[0m\u001b[1;33m\u001b[0m\u001b[0m\n\u001b[0;32m   2623\u001b[0m                 self._check_setitem_copy(stacklevel=4, t='referant',\n\u001b[1;32m-> 2624\u001b[1;33m                                          force=True)\n\u001b[0m\u001b[0;32m   2625\u001b[0m             \u001b[1;32mreturn\u001b[0m \u001b[1;32mTrue\u001b[0m\u001b[1;33m\u001b[0m\u001b[0m\n\u001b[0;32m   2626\u001b[0m         \u001b[1;32melif\u001b[0m \u001b[0mself\u001b[0m\u001b[1;33m.\u001b[0m\u001b[0m_is_copy\u001b[0m\u001b[1;33m:\u001b[0m\u001b[1;33m\u001b[0m\u001b[0m\n",
      "\u001b[1;32m~\\Anaconda2\\envs\\py36\\lib\\site-packages\\pandas\\core\\generic.py\u001b[0m in \u001b[0;36m_check_setitem_copy\u001b[1;34m(self, stacklevel, t, force)\u001b[0m\n\u001b[0;32m   2669\u001b[0m             \u001b[1;32mtry\u001b[0m\u001b[1;33m:\u001b[0m\u001b[1;33m\u001b[0m\u001b[0m\n\u001b[0;32m   2670\u001b[0m                 \u001b[0mgc\u001b[0m\u001b[1;33m.\u001b[0m\u001b[0mcollect\u001b[0m\u001b[1;33m(\u001b[0m\u001b[1;36m2\u001b[0m\u001b[1;33m)\u001b[0m\u001b[1;33m\u001b[0m\u001b[0m\n\u001b[1;32m-> 2671\u001b[1;33m                 \u001b[1;32mif\u001b[0m \u001b[1;32mnot\u001b[0m \u001b[0mgc\u001b[0m\u001b[1;33m.\u001b[0m\u001b[0mget_referents\u001b[0m\u001b[1;33m(\u001b[0m\u001b[0mself\u001b[0m\u001b[1;33m.\u001b[0m\u001b[0m_is_copy\u001b[0m\u001b[1;33m(\u001b[0m\u001b[1;33m)\u001b[0m\u001b[1;33m)\u001b[0m\u001b[1;33m:\u001b[0m\u001b[1;33m\u001b[0m\u001b[0m\n\u001b[0m\u001b[0;32m   2672\u001b[0m                     \u001b[0mself\u001b[0m\u001b[1;33m.\u001b[0m\u001b[0m_is_copy\u001b[0m \u001b[1;33m=\u001b[0m \u001b[1;32mNone\u001b[0m\u001b[1;33m\u001b[0m\u001b[0m\n\u001b[0;32m   2673\u001b[0m                     \u001b[1;32mreturn\u001b[0m\u001b[1;33m\u001b[0m\u001b[0m\n",
      "\u001b[1;31mKeyboardInterrupt\u001b[0m: "
     ]
    }
   ],
   "source": [
    "#iterating through all players that were listed as starters or were subbed in\n",
    "for player in df_Game_Lineup.Person_id.append(df_Play_by_Play.Person2).unique():\n",
    "    \n",
    "    #setting indicator value to 0 for all entries to start\n",
    "    df_merged[player] = 0\n",
    "    \n",
    "    #defining boolean statement to select games of interest (games in which player played in)\n",
    "    games = df_merged.Game_id.isin(df_Game_Lineup.loc[df_Game_Lineup.Person_id == player].Game_id.unique())\n",
    "\n",
    "    #setting indicator value to 1 for those who start periods\n",
    "    period_start_index = df_merged.loc[games].drop_duplicates(['Game_id', 'Period_x']).index\n",
    "\n",
    "    #groups by period finds players that started their period and puts a 1 in the first entry for those who started their period\n",
    "    start_of_period = ((df_merged.loc[games].groupby(['Game_id', 'Period'])\n",
    "                    .apply(lambda x: (x['Person1'] == player).any())).astype(int)).reset_index().set_index(period_start_index)\n",
    "    \n",
    "    #if player doesnt play, no need to set anything\n",
    "    if len(start_of_period) > 0:\n",
    "        df_merged.loc[period_start_index, player] = start_of_period[0]\n",
    "    \n",
    "    #setting continual indicatos of being in game\n",
    "    player_index = df_merged.loc[games].index\n",
    "    for i in range(len(player_index) - 1):\n",
    "    \n",
    "        df_merged[player].iloc[player_index[i+1]] = (#current value (if already 1, should stay same)\n",
    "                                    df_merged[player].iloc[player_index[i+1]] +\n",
    "                        \n",
    "                                    #no change in value if game or quarter or freethrow ends:\n",
    "                                    int((df_merged['Period_x'].iloc[player_index[i+1]] == df_merged['Period_x'].iloc[player_index[i]])\n",
    "                                    & (df_merged['Game_id'].iloc[player_index[i+1]] == df_merged['Game_id'].iloc[player_index[i]])) *\n",
    "                        \n",
    "                                    #previous value\n",
    "                                     (df_merged[player].iloc[player_index[i]]\n",
    "                        \n",
    "                                    #no change if free throw for both substitutions \n",
    "                                      #(checking if play before or after was freethrow)\n",
    "                                     + int((df_merged['Event_Msg_Type'].iloc[player_index[i]] != 3)) * \n",
    "                                      \n",
    "                                    #subtract 1 if player has been subbed out ()\n",
    "                                      ((- int((df_merged['Event_Msg_Type'].iloc[player_index[i+1]] == 8) & \n",
    "                                        (df_merged['Person1'].iloc[player_index[i+1]] == player))\n",
    "                          \n",
    "                                    #add 1 if player has been subbed in\n",
    "                                       + (int((df_merged['Event_Msg_Type'].iloc[player_index[i]] == 8) & \n",
    "                                        (df_merged['Person2'].iloc[player_index[i]] == player))))) ))\n",
    "        \n",
    "        \n",
    "        #adjusting for freethrows\n",
    "        if ((df_merged['Event_Msg_Type'].iloc[player_index[i]] == 3) &\n",
    "            (df_merged['Event_Msg_Type'].iloc[player_index[i+1]] == 8) & \n",
    "            (df_merged['Person1'].iloc[i+1] == player) & \n",
    "            (df_merged['Game_id'].iloc[player_index[findNonFreethrow(i) + i]] == df_merged['Game_id'].iloc[i])):\n",
    "                \n",
    "                                     df_merged[player].iloc[player_index[findNonFreethrow(i) + i]] = 0\n",
    "                            \n",
    "        if ((df_merged['Event_Msg_Type'].iloc[player_index[i]] == 3) &\n",
    "            (df_merged['Event_Msg_Type'].iloc[player_index[i+1]] == 8) &\n",
    "            (df_merged['Person2'].iloc[player_index[i+1]] == player) & \n",
    "            (df_merged['Game_id'].iloc[player_index[findNonFreethrow(i) + i]] == df_merged['Game_id'].iloc[i])):\n",
    "                \n",
    "                                     df_merged[player].iloc[player_index[findNonFreethrow(i) + i]] = 1"
   ]
  },
  {
   "cell_type": "code",
   "execution_count": null,
   "metadata": {},
   "outputs": [],
   "source": [
    "df_merged.to_csv('first_results.csv')"
   ]
  },
  {
   "cell_type": "code",
   "execution_count": null,
   "metadata": {},
   "outputs": [],
   "source": [
    "np.argmax(df_merged['ae53f8ba6761b64a174051da817785bc'])"
   ]
  },
  {
   "cell_type": "code",
   "execution_count": null,
   "metadata": {},
   "outputs": [],
   "source": [
    "import numpy as np"
   ]
  },
  {
   "cell_type": "code",
   "execution_count": null,
   "metadata": {},
   "outputs": [],
   "source": [
    "df_merged.iloc[77:150].drop(['Person1_type', 'Person2_type', 'Person3_type', 'Option2', 'Option1'], axis = 1)"
   ]
  },
  {
   "cell_type": "code",
   "execution_count": null,
   "metadata": {},
   "outputs": [],
   "source": [
    "i = 117"
   ]
  },
  {
   "cell_type": "code",
   "execution_count": null,
   "metadata": {},
   "outputs": [],
   "source": [
    "df_Game_Lineup.loc[(df_Game_Lineup.Game_id == 'ff42c1cba89fd3f3a7a6711a11d5576d') & (df_Game_Lineup.Period == 2)]"
   ]
  },
  {
   "cell_type": "code",
   "execution_count": null,
   "metadata": {},
   "outputs": [],
   "source": []
  }
 ],
 "metadata": {
  "kernelspec": {
   "display_name": "Python 3",
   "language": "python",
   "name": "python3"
  },
  "language_info": {
   "codemirror_mode": {
    "name": "ipython",
    "version": 3
   },
   "file_extension": ".py",
   "mimetype": "text/x-python",
   "name": "python",
   "nbconvert_exporter": "python",
   "pygments_lexer": "ipython3",
   "version": "3.6.5"
  }
 },
 "nbformat": 4,
 "nbformat_minor": 2
}
